{
 "cells": [
  {
   "cell_type": "code",
   "execution_count": 4,
   "metadata": {},
   "outputs": [
    {
     "data": {
      "text/html": [
       "\n",
       "        <script>\n",
       "            function code_toggle_17119151606626208411() {\n",
       "                $('div.cell.code_cell.rendered.selected').find('div.input').toggle();\n",
       "            }\n",
       "            \n",
       "        </script>\n",
       "        <a href=\"javascript:code_toggle_17119151606626208411()\">Toggle show/hide</a>\n",
       "    "
      ],
      "text/plain": [
       "<IPython.core.display.HTML object>"
      ]
     },
     "execution_count": 4,
     "metadata": {},
     "output_type": "execute_result"
    }
   ],
   "source": [
    "import psycopg2\n",
    "import pandas as pd\n",
    "import numpy as np\n",
    "from IPython.display import Image\n",
    "from IPython.core.display import HTML\n",
    "from IPython.core.display import display, HTML\n",
    "from IPython.display import HTML\n",
    "import random\n",
    "hide_toggle()\n"
   ]
  },
  {
   "cell_type": "code",
   "execution_count": 5,
   "metadata": {},
   "outputs": [
    {
     "data": {
      "text/html": [
       "\n",
       "        <script>\n",
       "            function code_toggle_17125487166078598518() {\n",
       "                $('div.cell.code_cell.rendered.selected').find('div.input').toggle();\n",
       "            }\n",
       "            \n",
       "        </script>\n",
       "        <a href=\"javascript:code_toggle_17125487166078598518()\">Toggle show/hide</a>\n",
       "    "
      ],
      "text/plain": [
       "<IPython.core.display.HTML object>"
      ]
     },
     "execution_count": 5,
     "metadata": {},
     "output_type": "execute_result"
    }
   ],
   "source": [
    "def hide_toggle(for_next=False):\n",
    "    this_cell = \"\"\"$('div.cell.code_cell.rendered.selected')\"\"\"\n",
    "    next_cell = this_cell + '.next()'\n",
    "    toggle_text = 'Toggle show/hide'  # text shown on toggle link\n",
    "    target_cell = this_cell  # target cell to control with toggle\n",
    "    js_hide_current = ''  # bit of JS to permanently hide code in current cell (only when toggling next cell)\n",
    "    if for_next:\n",
    "        target_cell = next_cell\n",
    "        toggle_text += ' next cell'\n",
    "        js_hide_current = this_cell + '.find(\"div.input\").hide();'\n",
    "    js_f_name = 'code_toggle_{}'.format(str(random.randint(1,2**64)))\n",
    "    html = \"\"\"\n",
    "        <script>\n",
    "            function {f_name}() {{\n",
    "                {cell_selector}.find('div.input').toggle();\n",
    "            }}\n",
    "            {js_hide_current}\n",
    "        </script>\n",
    "        <a href=\"javascript:{f_name}()\">{toggle_text}</a>\n",
    "    \"\"\".format(\n",
    "        f_name=js_f_name,\n",
    "        cell_selector=target_cell,\n",
    "        js_hide_current=js_hide_current,\n",
    "        toggle_text=toggle_text\n",
    "    )\n",
    "    return HTML(html)\n",
    "hide_toggle()\n"
   ]
  },
  {
   "cell_type": "code",
   "execution_count": 7,
   "metadata": {},
   "outputs": [
    {
     "data": {
      "text/html": [
       "\n",
       "        <script>\n",
       "            function code_toggle_9487269537709848082() {\n",
       "                $('div.cell.code_cell.rendered.selected').find('div.input').toggle();\n",
       "            }\n",
       "            \n",
       "        </script>\n",
       "        <a href=\"javascript:code_toggle_9487269537709848082()\">Toggle show/hide</a>\n",
       "    "
      ],
      "text/plain": [
       "<IPython.core.display.HTML object>"
      ]
     },
     "execution_count": 7,
     "metadata": {},
     "output_type": "execute_result"
    }
   ],
   "source": [
    "def select_query(query):\n",
    "    df = pd.read_sql_query(query, conn, coerce_float=False)\n",
    "    df.replace([None], np.nan, inplace=True)\n",
    "\n",
    "    return df\n",
    "hide_toggle()\n"
   ]
  },
  {
   "cell_type": "code",
   "execution_count": 8,
   "metadata": {},
   "outputs": [
    {
     "data": {
      "text/html": [
       "\n",
       "        <script>\n",
       "            function code_toggle_722694194221037981() {\n",
       "                $('div.cell.code_cell.rendered.selected').find('div.input').toggle();\n",
       "            }\n",
       "            \n",
       "        </script>\n",
       "        <a href=\"javascript:code_toggle_722694194221037981()\">Toggle show/hide</a>\n",
       "    "
      ],
      "text/plain": [
       "<IPython.core.display.HTML object>"
      ]
     },
     "execution_count": 8,
     "metadata": {},
     "output_type": "execute_result"
    }
   ],
   "source": [
    "def display_side_by_side(dfs: list, captions: list):\n",
    "    \"\"\"Display tables side by side to save vertical space\n",
    "    Input:\n",
    "        dfs: list of pandas.DataFrame\n",
    "        captions: list of table captions\n",
    "    \"\"\"\n",
    "\n",
    "    output = \"\"\n",
    "    combined = dict(zip(captions, dfs))\n",
    "    for caption, df in combined.items():\n",
    "        output += df.style.set_table_attributes(\"style='display:inline'\")\\\n",
    "                    .set_caption(caption)._repr_html_()\n",
    "        output += \"\\xa0\\xa0\\xa0\"\n",
    "    display(HTML(output))\n",
    "\n",
    "hide_toggle()\n"
   ]
  },
  {
   "cell_type": "code",
   "execution_count": 9,
   "metadata": {
    "jupyter": {
     "outputs_hidden": true,
     "source_hidden": true
    }
   },
   "outputs": [
    {
     "data": {
      "text/html": [
       "\n",
       "        <script>\n",
       "            function code_toggle_13932445569130902845() {\n",
       "                $('div.cell.code_cell.rendered.selected').find('div.input').toggle();\n",
       "            }\n",
       "            \n",
       "        </script>\n",
       "        <a href=\"javascript:code_toggle_13932445569130902845()\">Toggle show/hide</a>\n",
       "    "
      ],
      "text/plain": [
       "<IPython.core.display.HTML object>"
      ]
     },
     "execution_count": 9,
     "metadata": {},
     "output_type": "execute_result"
    }
   ],
   "source": [
    "# CHANGE INFO TO RUN ON YOUR LOCAL\n",
    "host = \"127.0.0.1\"\n",
    "port = \"5432\"\n",
    "database = \"MSDS691\"\n",
    "# database = 'msds691'\n",
    "user = \"postgres\"\n",
    "hide_toggle()\n"
   ]
  },
  {
   "cell_type": "code",
   "execution_count": 10,
   "metadata": {
    "jupyter": {
     "outputs_hidden": true,
     "source_hidden": true
    }
   },
   "outputs": [
    {
     "data": {
      "text/html": [
       "\n",
       "        <script>\n",
       "            function code_toggle_2286564618898577915() {\n",
       "                $('div.cell.code_cell.rendered.selected').find('div.input').toggle();\n",
       "            }\n",
       "            \n",
       "        </script>\n",
       "        <a href=\"javascript:code_toggle_2286564618898577915()\">Toggle show/hide</a>\n",
       "    "
      ],
      "text/plain": [
       "<IPython.core.display.HTML object>"
      ]
     },
     "execution_count": 10,
     "metadata": {},
     "output_type": "execute_result"
    }
   ],
   "source": [
    "conn = psycopg2.connect(host=host, port=port, database=database, user=user)\n",
    "cur = conn.cursor()\n",
    "hide_toggle()\n"
   ]
  },
  {
   "cell_type": "code",
   "execution_count": 11,
   "metadata": {
    "jupyter": {
     "source_hidden": true
    }
   },
   "outputs": [
    {
     "data": {
      "text/html": [
       "\n",
       "        <script>\n",
       "            function code_toggle_6366055078949490830() {\n",
       "                $('div.cell.code_cell.rendered.selected').find('div.input').toggle();\n",
       "            }\n",
       "            \n",
       "        </script>\n",
       "        <a href=\"javascript:code_toggle_6366055078949490830()\">Toggle show/hide</a>\n",
       "    "
      ],
      "text/plain": [
       "<IPython.core.display.HTML object>"
      ]
     },
     "execution_count": 11,
     "metadata": {},
     "output_type": "execute_result"
    }
   ],
   "source": [
    "cur.execute(f'''DROP TABLE IF EXISTS names;''')\n",
    "cur.execute(f'''DROP TABLE IF EXISTS transactions;''')\n",
    "hide_toggle()\n"
   ]
  },
  {
   "cell_type": "code",
   "execution_count": 12,
   "metadata": {
    "jupyter": {
     "source_hidden": true
    }
   },
   "outputs": [
    {
     "data": {
      "text/html": [
       "\n",
       "        <script>\n",
       "            function code_toggle_11525212484154582479() {\n",
       "                $('div.cell.code_cell.rendered.selected').find('div.input').toggle();\n",
       "            }\n",
       "            \n",
       "        </script>\n",
       "        <a href=\"javascript:code_toggle_11525212484154582479()\">Toggle show/hide</a>\n",
       "    "
      ],
      "text/plain": [
       "<IPython.core.display.HTML object>"
      ]
     },
     "execution_count": 12,
     "metadata": {},
     "output_type": "execute_result"
    }
   ],
   "source": [
    "create = f'''\n",
    "\n",
    "DROP TABLE IF EXISTS names;\n",
    "\n",
    "CREATE TABLE names\n",
    "(id INTEGER,\n",
    "name VARCHAR,\n",
    "PRIMARY KEY (id))\n",
    ";\n",
    "\n",
    "INSERT INTO names\n",
    "VALUES\n",
    "(1, 'Jon Smith'),\n",
    "(2, 'Sarah Adams'),\n",
    "(3, 'Maria Lopez')\n",
    ";'''\n",
    "\n",
    "cur.execute(create)\n",
    "conn.commit()\n",
    "\n",
    "create = f'''\n",
    "\n",
    "DROP TABLE IF EXISTS transactions;\n",
    "\n",
    "CREATE TABLE transactions\n",
    "(id INTEGER,\n",
    " amount NUMERIC,\n",
    " PRIMARY KEY (id))\n",
    ";\n",
    "\n",
    "INSERT INTO transactions\n",
    "VALUES\n",
    "(1, 10),\n",
    "(3, 20),\n",
    "(7, 50)\n",
    ";'''\n",
    "\n",
    "cur.execute(create)\n",
    "conn.commit()\n",
    "hide_toggle()\n"
   ]
  },
  {
   "cell_type": "markdown",
   "metadata": {},
   "source": [
    "### General Join Syntax"
   ]
  },
  {
   "cell_type": "markdown",
   "metadata": {},
   "source": [
    "SELECT <br>\n",
    "[Field Names] <br>\n",
    "FROM TableA A <br>\n",
    "[Join Type] JOIN <br>\n",
    "TableB B <br>\n",
    "ON A.key=B.key <br>"
   ]
  },
  {
   "cell_type": "markdown",
   "metadata": {},
   "source": [
    "### select * names\n"
   ]
  },
  {
   "cell_type": "code",
   "execution_count": 13,
   "metadata": {},
   "outputs": [
    {
     "data": {
      "text/html": [
       "<div>\n",
       "<style scoped>\n",
       "    .dataframe tbody tr th:only-of-type {\n",
       "        vertical-align: middle;\n",
       "    }\n",
       "\n",
       "    .dataframe tbody tr th {\n",
       "        vertical-align: top;\n",
       "    }\n",
       "\n",
       "    .dataframe thead th {\n",
       "        text-align: right;\n",
       "    }\n",
       "</style>\n",
       "<table border=\"1\" class=\"dataframe\">\n",
       "  <thead>\n",
       "    <tr style=\"text-align: right;\">\n",
       "      <th></th>\n",
       "      <th>id</th>\n",
       "      <th>name</th>\n",
       "    </tr>\n",
       "  </thead>\n",
       "  <tbody>\n",
       "    <tr>\n",
       "      <th>0</th>\n",
       "      <td>1</td>\n",
       "      <td>Jon Smith</td>\n",
       "    </tr>\n",
       "    <tr>\n",
       "      <th>1</th>\n",
       "      <td>2</td>\n",
       "      <td>Sarah Adams</td>\n",
       "    </tr>\n",
       "    <tr>\n",
       "      <th>2</th>\n",
       "      <td>3</td>\n",
       "      <td>Maria Lopez</td>\n",
       "    </tr>\n",
       "  </tbody>\n",
       "</table>\n",
       "</div>"
      ],
      "text/plain": [
       "   id         name\n",
       "0   1    Jon Smith\n",
       "1   2  Sarah Adams\n",
       "2   3  Maria Lopez"
      ]
     },
     "execution_count": 13,
     "metadata": {},
     "output_type": "execute_result"
    }
   ],
   "source": [
    "query = f'''\n",
    "\n",
    "SELECT *\n",
    "FROM names\n",
    "\n",
    ";'''\n",
    "df_names = select_query(query)\n",
    "df_names\n"
   ]
  },
  {
   "cell_type": "markdown",
   "metadata": {},
   "source": [
    "### select * transactions"
   ]
  },
  {
   "cell_type": "code",
   "execution_count": 14,
   "metadata": {},
   "outputs": [
    {
     "data": {
      "text/html": [
       "<div>\n",
       "<style scoped>\n",
       "    .dataframe tbody tr th:only-of-type {\n",
       "        vertical-align: middle;\n",
       "    }\n",
       "\n",
       "    .dataframe tbody tr th {\n",
       "        vertical-align: top;\n",
       "    }\n",
       "\n",
       "    .dataframe thead th {\n",
       "        text-align: right;\n",
       "    }\n",
       "</style>\n",
       "<table border=\"1\" class=\"dataframe\">\n",
       "  <thead>\n",
       "    <tr style=\"text-align: right;\">\n",
       "      <th></th>\n",
       "      <th>id</th>\n",
       "      <th>amount</th>\n",
       "    </tr>\n",
       "  </thead>\n",
       "  <tbody>\n",
       "    <tr>\n",
       "      <th>0</th>\n",
       "      <td>1</td>\n",
       "      <td>10</td>\n",
       "    </tr>\n",
       "    <tr>\n",
       "      <th>1</th>\n",
       "      <td>3</td>\n",
       "      <td>20</td>\n",
       "    </tr>\n",
       "    <tr>\n",
       "      <th>2</th>\n",
       "      <td>7</td>\n",
       "      <td>50</td>\n",
       "    </tr>\n",
       "  </tbody>\n",
       "</table>\n",
       "</div>"
      ],
      "text/plain": [
       "   id amount\n",
       "0   1     10\n",
       "1   3     20\n",
       "2   7     50"
      ]
     },
     "execution_count": 14,
     "metadata": {},
     "output_type": "execute_result"
    }
   ],
   "source": [
    "query = f'''\n",
    "\n",
    "SELECT *\n",
    "FROM transactions\n",
    "\n",
    ";'''\n",
    "df_transactions = select_query(query)\n",
    "df_transactions\n"
   ]
  },
  {
   "cell_type": "markdown",
   "metadata": {},
   "source": [
    "### Inner Join"
   ]
  },
  {
   "cell_type": "code",
   "execution_count": 55,
   "metadata": {},
   "outputs": [
    {
     "data": {
      "image/png": "[encoded data removed]",
      "text/plain": [
       "<IPython.core.display.Image object>"
      ]
     },
     "execution_count": 55,
     "metadata": {
      "image/png": {
       "width": 200
      }
     },
     "output_type": "execute_result"
    }
   ],
   "source": [
    "Image(filename= \"images/inner_join.png\", width=200)"
   ]
  },
  {
   "cell_type": "code",
   "execution_count": 39,
   "metadata": {},
   "outputs": [
    {
     "data": {
      "text/html": [
       "<style  type=\"text/css\" >\n",
       "</style><table id=\"T_03b9caea_2a02_11ec_acc6_1e00311af459\" style='display:inline'><caption>Left Table</caption><thead>    <tr>        <th class=\"blank level0\" ></th>        <th class=\"col_heading level0 col0\" >id</th>        <th class=\"col_heading level0 col1\" >name</th>    </tr></thead><tbody>\n",
       "                <tr>\n",
       "                        <th id=\"T_03b9caea_2a02_11ec_acc6_1e00311af459level0_row0\" class=\"row_heading level0 row0\" >0</th>\n",
       "                        <td id=\"T_03b9caea_2a02_11ec_acc6_1e00311af459row0_col0\" class=\"data row0 col0\" >1</td>\n",
       "                        <td id=\"T_03b9caea_2a02_11ec_acc6_1e00311af459row0_col1\" class=\"data row0 col1\" >Jon Smith</td>\n",
       "            </tr>\n",
       "            <tr>\n",
       "                        <th id=\"T_03b9caea_2a02_11ec_acc6_1e00311af459level0_row1\" class=\"row_heading level0 row1\" >1</th>\n",
       "                        <td id=\"T_03b9caea_2a02_11ec_acc6_1e00311af459row1_col0\" class=\"data row1 col0\" >2</td>\n",
       "                        <td id=\"T_03b9caea_2a02_11ec_acc6_1e00311af459row1_col1\" class=\"data row1 col1\" >Sarah Adams</td>\n",
       "            </tr>\n",
       "            <tr>\n",
       "                        <th id=\"T_03b9caea_2a02_11ec_acc6_1e00311af459level0_row2\" class=\"row_heading level0 row2\" >2</th>\n",
       "                        <td id=\"T_03b9caea_2a02_11ec_acc6_1e00311af459row2_col0\" class=\"data row2 col0\" >3</td>\n",
       "                        <td id=\"T_03b9caea_2a02_11ec_acc6_1e00311af459row2_col1\" class=\"data row2 col1\" >Maria Lopez</td>\n",
       "            </tr>\n",
       "    </tbody></table>   <style  type=\"text/css\" >\n",
       "</style><table id=\"T_03ba1b80_2a02_11ec_acc6_1e00311af459\" style='display:inline'><caption>Right Table</caption><thead>    <tr>        <th class=\"blank level0\" ></th>        <th class=\"col_heading level0 col0\" >id</th>        <th class=\"col_heading level0 col1\" >amount</th>    </tr></thead><tbody>\n",
       "                <tr>\n",
       "                        <th id=\"T_03ba1b80_2a02_11ec_acc6_1e00311af459level0_row0\" class=\"row_heading level0 row0\" >0</th>\n",
       "                        <td id=\"T_03ba1b80_2a02_11ec_acc6_1e00311af459row0_col0\" class=\"data row0 col0\" >1</td>\n",
       "                        <td id=\"T_03ba1b80_2a02_11ec_acc6_1e00311af459row0_col1\" class=\"data row0 col1\" >10</td>\n",
       "            </tr>\n",
       "            <tr>\n",
       "                        <th id=\"T_03ba1b80_2a02_11ec_acc6_1e00311af459level0_row1\" class=\"row_heading level0 row1\" >1</th>\n",
       "                        <td id=\"T_03ba1b80_2a02_11ec_acc6_1e00311af459row1_col0\" class=\"data row1 col0\" >3</td>\n",
       "                        <td id=\"T_03ba1b80_2a02_11ec_acc6_1e00311af459row1_col1\" class=\"data row1 col1\" >20</td>\n",
       "            </tr>\n",
       "            <tr>\n",
       "                        <th id=\"T_03ba1b80_2a02_11ec_acc6_1e00311af459level0_row2\" class=\"row_heading level0 row2\" >2</th>\n",
       "                        <td id=\"T_03ba1b80_2a02_11ec_acc6_1e00311af459row2_col0\" class=\"data row2 col0\" >7</td>\n",
       "                        <td id=\"T_03ba1b80_2a02_11ec_acc6_1e00311af459row2_col1\" class=\"data row2 col1\" >50</td>\n",
       "            </tr>\n",
       "    </tbody></table>   <style  type=\"text/css\" >\n",
       "</style><table id=\"T_03ba5a14_2a02_11ec_acc6_1e00311af459\" style='display:inline'><caption>Inner Join Output</caption><thead>    <tr>        <th class=\"blank level0\" ></th>        <th class=\"col_heading level0 col0\" >id</th>        <th class=\"col_heading level0 col1\" >name</th>        <th class=\"col_heading level0 col2\" >amount</th>    </tr></thead><tbody>\n",
       "                <tr>\n",
       "                        <th id=\"T_03ba5a14_2a02_11ec_acc6_1e00311af459level0_row0\" class=\"row_heading level0 row0\" >0</th>\n",
       "                        <td id=\"T_03ba5a14_2a02_11ec_acc6_1e00311af459row0_col0\" class=\"data row0 col0\" >1</td>\n",
       "                        <td id=\"T_03ba5a14_2a02_11ec_acc6_1e00311af459row0_col1\" class=\"data row0 col1\" >Jon Smith</td>\n",
       "                        <td id=\"T_03ba5a14_2a02_11ec_acc6_1e00311af459row0_col2\" class=\"data row0 col2\" >10</td>\n",
       "            </tr>\n",
       "            <tr>\n",
       "                        <th id=\"T_03ba5a14_2a02_11ec_acc6_1e00311af459level0_row1\" class=\"row_heading level0 row1\" >1</th>\n",
       "                        <td id=\"T_03ba5a14_2a02_11ec_acc6_1e00311af459row1_col0\" class=\"data row1 col0\" >3</td>\n",
       "                        <td id=\"T_03ba5a14_2a02_11ec_acc6_1e00311af459row1_col1\" class=\"data row1 col1\" >Maria Lopez</td>\n",
       "                        <td id=\"T_03ba5a14_2a02_11ec_acc6_1e00311af459row1_col2\" class=\"data row1 col2\" >20</td>\n",
       "            </tr>\n",
       "    </tbody></table>   "
      ],
      "text/plain": [
       "<IPython.core.display.HTML object>"
      ]
     },
     "metadata": {},
     "output_type": "display_data"
    }
   ],
   "source": [
    "query = f'''\n",
    "\n",
    "SELECT  \n",
    "names.id, \n",
    "names.name, \n",
    "transactions.amount\n",
    "FROM names \n",
    "    INNER JOIN transactions\n",
    "        ON (names.id = transactions.id)\n",
    "\n",
    ";'''\n",
    "df_inner_join = select_query(query)\n",
    "display_side_by_side([df_names, df_transactions, df_inner_join],\n",
    "                     ['Left Table', 'Right Table', 'Inner Join Output'])\n"
   ]
  },
  {
   "cell_type": "markdown",
   "metadata": {},
   "source": [
    "### Left Join"
   ]
  },
  {
   "cell_type": "code",
   "execution_count": 56,
   "metadata": {},
   "outputs": [
    {
     "data": {
      "image/png": "[encoded data removed]",
      "text/plain": [
       "<IPython.core.display.Image object>"
      ]
     },
     "execution_count": 56,
     "metadata": {
      "image/png": {
       "width": 200
      }
     },
     "output_type": "execute_result"
    }
   ],
   "source": [
    "Image(filename= \"images/left_join.png\", width=200)"
   ]
  },
  {
   "cell_type": "code",
   "execution_count": 16,
   "metadata": {},
   "outputs": [
    {
     "data": {
      "text/html": [
       "<style  type=\"text/css\" >\n",
       "</style><table id=\"T_d9f31518_265f_11ec_bb63_1e00311af459\" style='display:inline'><caption>Left Table</caption><thead>    <tr>        <th class=\"blank level0\" ></th>        <th class=\"col_heading level0 col0\" >id</th>        <th class=\"col_heading level0 col1\" >name</th>    </tr></thead><tbody>\n",
       "                <tr>\n",
       "                        <th id=\"T_d9f31518_265f_11ec_bb63_1e00311af459level0_row0\" class=\"row_heading level0 row0\" >0</th>\n",
       "                        <td id=\"T_d9f31518_265f_11ec_bb63_1e00311af459row0_col0\" class=\"data row0 col0\" >1</td>\n",
       "                        <td id=\"T_d9f31518_265f_11ec_bb63_1e00311af459row0_col1\" class=\"data row0 col1\" >Jon Smith</td>\n",
       "            </tr>\n",
       "            <tr>\n",
       "                        <th id=\"T_d9f31518_265f_11ec_bb63_1e00311af459level0_row1\" class=\"row_heading level0 row1\" >1</th>\n",
       "                        <td id=\"T_d9f31518_265f_11ec_bb63_1e00311af459row1_col0\" class=\"data row1 col0\" >2</td>\n",
       "                        <td id=\"T_d9f31518_265f_11ec_bb63_1e00311af459row1_col1\" class=\"data row1 col1\" >Sarah Adams</td>\n",
       "            </tr>\n",
       "            <tr>\n",
       "                        <th id=\"T_d9f31518_265f_11ec_bb63_1e00311af459level0_row2\" class=\"row_heading level0 row2\" >2</th>\n",
       "                        <td id=\"T_d9f31518_265f_11ec_bb63_1e00311af459row2_col0\" class=\"data row2 col0\" >3</td>\n",
       "                        <td id=\"T_d9f31518_265f_11ec_bb63_1e00311af459row2_col1\" class=\"data row2 col1\" >Maria Lopez</td>\n",
       "            </tr>\n",
       "    </tbody></table>   <style  type=\"text/css\" >\n",
       "</style><table id=\"T_d9f35924_265f_11ec_bb63_1e00311af459\" style='display:inline'><caption>Right Table</caption><thead>    <tr>        <th class=\"blank level0\" ></th>        <th class=\"col_heading level0 col0\" >id</th>        <th class=\"col_heading level0 col1\" >amount</th>    </tr></thead><tbody>\n",
       "                <tr>\n",
       "                        <th id=\"T_d9f35924_265f_11ec_bb63_1e00311af459level0_row0\" class=\"row_heading level0 row0\" >0</th>\n",
       "                        <td id=\"T_d9f35924_265f_11ec_bb63_1e00311af459row0_col0\" class=\"data row0 col0\" >1</td>\n",
       "                        <td id=\"T_d9f35924_265f_11ec_bb63_1e00311af459row0_col1\" class=\"data row0 col1\" >10</td>\n",
       "            </tr>\n",
       "            <tr>\n",
       "                        <th id=\"T_d9f35924_265f_11ec_bb63_1e00311af459level0_row1\" class=\"row_heading level0 row1\" >1</th>\n",
       "                        <td id=\"T_d9f35924_265f_11ec_bb63_1e00311af459row1_col0\" class=\"data row1 col0\" >3</td>\n",
       "                        <td id=\"T_d9f35924_265f_11ec_bb63_1e00311af459row1_col1\" class=\"data row1 col1\" >20</td>\n",
       "            </tr>\n",
       "            <tr>\n",
       "                        <th id=\"T_d9f35924_265f_11ec_bb63_1e00311af459level0_row2\" class=\"row_heading level0 row2\" >2</th>\n",
       "                        <td id=\"T_d9f35924_265f_11ec_bb63_1e00311af459row2_col0\" class=\"data row2 col0\" >7</td>\n",
       "                        <td id=\"T_d9f35924_265f_11ec_bb63_1e00311af459row2_col1\" class=\"data row2 col1\" >50</td>\n",
       "            </tr>\n",
       "    </tbody></table>   <style  type=\"text/css\" >\n",
       "</style><table id=\"T_d9f382f0_265f_11ec_bb63_1e00311af459\" style='display:inline'><caption>Left Join Output</caption><thead>    <tr>        <th class=\"blank level0\" ></th>        <th class=\"col_heading level0 col0\" >id</th>        <th class=\"col_heading level0 col1\" >name</th>        <th class=\"col_heading level0 col2\" >amount</th>    </tr></thead><tbody>\n",
       "                <tr>\n",
       "                        <th id=\"T_d9f382f0_265f_11ec_bb63_1e00311af459level0_row0\" class=\"row_heading level0 row0\" >0</th>\n",
       "                        <td id=\"T_d9f382f0_265f_11ec_bb63_1e00311af459row0_col0\" class=\"data row0 col0\" >1</td>\n",
       "                        <td id=\"T_d9f382f0_265f_11ec_bb63_1e00311af459row0_col1\" class=\"data row0 col1\" >Jon Smith</td>\n",
       "                        <td id=\"T_d9f382f0_265f_11ec_bb63_1e00311af459row0_col2\" class=\"data row0 col2\" >10</td>\n",
       "            </tr>\n",
       "            <tr>\n",
       "                        <th id=\"T_d9f382f0_265f_11ec_bb63_1e00311af459level0_row1\" class=\"row_heading level0 row1\" >1</th>\n",
       "                        <td id=\"T_d9f382f0_265f_11ec_bb63_1e00311af459row1_col0\" class=\"data row1 col0\" >2</td>\n",
       "                        <td id=\"T_d9f382f0_265f_11ec_bb63_1e00311af459row1_col1\" class=\"data row1 col1\" >Sarah Adams</td>\n",
       "                        <td id=\"T_d9f382f0_265f_11ec_bb63_1e00311af459row1_col2\" class=\"data row1 col2\" >nan</td>\n",
       "            </tr>\n",
       "            <tr>\n",
       "                        <th id=\"T_d9f382f0_265f_11ec_bb63_1e00311af459level0_row2\" class=\"row_heading level0 row2\" >2</th>\n",
       "                        <td id=\"T_d9f382f0_265f_11ec_bb63_1e00311af459row2_col0\" class=\"data row2 col0\" >3</td>\n",
       "                        <td id=\"T_d9f382f0_265f_11ec_bb63_1e00311af459row2_col1\" class=\"data row2 col1\" >Maria Lopez</td>\n",
       "                        <td id=\"T_d9f382f0_265f_11ec_bb63_1e00311af459row2_col2\" class=\"data row2 col2\" >20</td>\n",
       "            </tr>\n",
       "    </tbody></table>   "
      ],
      "text/plain": [
       "<IPython.core.display.HTML object>"
      ]
     },
     "metadata": {},
     "output_type": "display_data"
    }
   ],
   "source": [
    "query = f'''\n",
    "\n",
    "SELECT  \n",
    "names.id, \n",
    "names.name, \n",
    "transactions.amount\n",
    "FROM names \n",
    "    LEFT JOIN transactions\n",
    "        ON (names.id = transactions.id)\n",
    "\n",
    ";'''\n",
    "df_left_join = select_query(query)\n",
    "display_side_by_side([df_names, df_transactions, df_left_join],\n",
    "                     ['Left Table', 'Right Table', 'Left Join Output'])\n"
   ]
  },
  {
   "cell_type": "markdown",
   "metadata": {},
   "source": [
    "### Right Join"
   ]
  },
  {
   "cell_type": "code",
   "execution_count": 48,
   "metadata": {},
   "outputs": [
    {
     "data": {
      "image/png": "[encoded data removed]",
      "text/plain": [
       "<IPython.core.display.Image object>"
      ]
     },
     "execution_count": 48,
     "metadata": {
      "image/png": {
       "width": 200
      }
     },
     "output_type": "execute_result"
    }
   ],
   "source": [
    "Image(filename= \"images/right_join.png\", width=200)"
   ]
  },
  {
   "cell_type": "code",
   "execution_count": 17,
   "metadata": {},
   "outputs": [
    {
     "data": {
      "text/html": [
       "<style  type=\"text/css\" >\n",
       "</style><table id=\"T_db579438_265f_11ec_bb63_1e00311af459\" style='display:inline'><caption>Left Table</caption><thead>    <tr>        <th class=\"blank level0\" ></th>        <th class=\"col_heading level0 col0\" >id</th>        <th class=\"col_heading level0 col1\" >name</th>    </tr></thead><tbody>\n",
       "                <tr>\n",
       "                        <th id=\"T_db579438_265f_11ec_bb63_1e00311af459level0_row0\" class=\"row_heading level0 row0\" >0</th>\n",
       "                        <td id=\"T_db579438_265f_11ec_bb63_1e00311af459row0_col0\" class=\"data row0 col0\" >1</td>\n",
       "                        <td id=\"T_db579438_265f_11ec_bb63_1e00311af459row0_col1\" class=\"data row0 col1\" >Jon Smith</td>\n",
       "            </tr>\n",
       "            <tr>\n",
       "                        <th id=\"T_db579438_265f_11ec_bb63_1e00311af459level0_row1\" class=\"row_heading level0 row1\" >1</th>\n",
       "                        <td id=\"T_db579438_265f_11ec_bb63_1e00311af459row1_col0\" class=\"data row1 col0\" >2</td>\n",
       "                        <td id=\"T_db579438_265f_11ec_bb63_1e00311af459row1_col1\" class=\"data row1 col1\" >Sarah Adams</td>\n",
       "            </tr>\n",
       "            <tr>\n",
       "                        <th id=\"T_db579438_265f_11ec_bb63_1e00311af459level0_row2\" class=\"row_heading level0 row2\" >2</th>\n",
       "                        <td id=\"T_db579438_265f_11ec_bb63_1e00311af459row2_col0\" class=\"data row2 col0\" >3</td>\n",
       "                        <td id=\"T_db579438_265f_11ec_bb63_1e00311af459row2_col1\" class=\"data row2 col1\" >Maria Lopez</td>\n",
       "            </tr>\n",
       "    </tbody></table>   <style  type=\"text/css\" >\n",
       "</style><table id=\"T_db57df74_265f_11ec_bb63_1e00311af459\" style='display:inline'><caption>Right Table</caption><thead>    <tr>        <th class=\"blank level0\" ></th>        <th class=\"col_heading level0 col0\" >id</th>        <th class=\"col_heading level0 col1\" >amount</th>    </tr></thead><tbody>\n",
       "                <tr>\n",
       "                        <th id=\"T_db57df74_265f_11ec_bb63_1e00311af459level0_row0\" class=\"row_heading level0 row0\" >0</th>\n",
       "                        <td id=\"T_db57df74_265f_11ec_bb63_1e00311af459row0_col0\" class=\"data row0 col0\" >1</td>\n",
       "                        <td id=\"T_db57df74_265f_11ec_bb63_1e00311af459row0_col1\" class=\"data row0 col1\" >10</td>\n",
       "            </tr>\n",
       "            <tr>\n",
       "                        <th id=\"T_db57df74_265f_11ec_bb63_1e00311af459level0_row1\" class=\"row_heading level0 row1\" >1</th>\n",
       "                        <td id=\"T_db57df74_265f_11ec_bb63_1e00311af459row1_col0\" class=\"data row1 col0\" >3</td>\n",
       "                        <td id=\"T_db57df74_265f_11ec_bb63_1e00311af459row1_col1\" class=\"data row1 col1\" >20</td>\n",
       "            </tr>\n",
       "            <tr>\n",
       "                        <th id=\"T_db57df74_265f_11ec_bb63_1e00311af459level0_row2\" class=\"row_heading level0 row2\" >2</th>\n",
       "                        <td id=\"T_db57df74_265f_11ec_bb63_1e00311af459row2_col0\" class=\"data row2 col0\" >7</td>\n",
       "                        <td id=\"T_db57df74_265f_11ec_bb63_1e00311af459row2_col1\" class=\"data row2 col1\" >50</td>\n",
       "            </tr>\n",
       "    </tbody></table>   <style  type=\"text/css\" >\n",
       "</style><table id=\"T_db58220e_265f_11ec_bb63_1e00311af459\" style='display:inline'><caption>Right Join Output</caption><thead>    <tr>        <th class=\"blank level0\" ></th>        <th class=\"col_heading level0 col0\" >id</th>        <th class=\"col_heading level0 col1\" >name</th>        <th class=\"col_heading level0 col2\" >amount</th>    </tr></thead><tbody>\n",
       "                <tr>\n",
       "                        <th id=\"T_db58220e_265f_11ec_bb63_1e00311af459level0_row0\" class=\"row_heading level0 row0\" >0</th>\n",
       "                        <td id=\"T_db58220e_265f_11ec_bb63_1e00311af459row0_col0\" class=\"data row0 col0\" >1</td>\n",
       "                        <td id=\"T_db58220e_265f_11ec_bb63_1e00311af459row0_col1\" class=\"data row0 col1\" >Jon Smith</td>\n",
       "                        <td id=\"T_db58220e_265f_11ec_bb63_1e00311af459row0_col2\" class=\"data row0 col2\" >10</td>\n",
       "            </tr>\n",
       "            <tr>\n",
       "                        <th id=\"T_db58220e_265f_11ec_bb63_1e00311af459level0_row1\" class=\"row_heading level0 row1\" >1</th>\n",
       "                        <td id=\"T_db58220e_265f_11ec_bb63_1e00311af459row1_col0\" class=\"data row1 col0\" >3</td>\n",
       "                        <td id=\"T_db58220e_265f_11ec_bb63_1e00311af459row1_col1\" class=\"data row1 col1\" >Maria Lopez</td>\n",
       "                        <td id=\"T_db58220e_265f_11ec_bb63_1e00311af459row1_col2\" class=\"data row1 col2\" >20</td>\n",
       "            </tr>\n",
       "            <tr>\n",
       "                        <th id=\"T_db58220e_265f_11ec_bb63_1e00311af459level0_row2\" class=\"row_heading level0 row2\" >2</th>\n",
       "                        <td id=\"T_db58220e_265f_11ec_bb63_1e00311af459row2_col0\" class=\"data row2 col0\" >7</td>\n",
       "                        <td id=\"T_db58220e_265f_11ec_bb63_1e00311af459row2_col1\" class=\"data row2 col1\" >nan</td>\n",
       "                        <td id=\"T_db58220e_265f_11ec_bb63_1e00311af459row2_col2\" class=\"data row2 col2\" >50</td>\n",
       "            </tr>\n",
       "    </tbody></table>   "
      ],
      "text/plain": [
       "<IPython.core.display.HTML object>"
      ]
     },
     "metadata": {},
     "output_type": "display_data"
    }
   ],
   "source": [
    "query = f'''\n",
    "\n",
    "SELECT  \n",
    "transactions.id, \n",
    "names.name, \n",
    "transactions.amount\n",
    "FROM names \n",
    "    RIGHT JOIN transactions\n",
    "        ON (names.id = transactions.id)\n",
    "\n",
    ";'''\n",
    "df_right_join = select_query(query)\n",
    "display_side_by_side([df_names, df_transactions, df_right_join],\n",
    "                     ['Left Table', 'Right Table', 'Right Join Output'])\n"
   ]
  },
  {
   "cell_type": "markdown",
   "metadata": {},
   "source": [
    "### Full Join"
   ]
  },
  {
   "cell_type": "code",
   "execution_count": 50,
   "metadata": {},
   "outputs": [
    {
     "data": {
      "image/png": "[encoded data removed]",
      "text/plain": [
       "<IPython.core.display.Image object>"
      ]
     },
     "execution_count": 50,
     "metadata": {
      "image/png": {
       "width": 200
      }
     },
     "output_type": "execute_result"
    }
   ],
   "source": [
    "Image(filename= \"images/full_join.png\", width=200)"
   ]
  },
  {
   "cell_type": "code",
   "execution_count": 18,
   "metadata": {},
   "outputs": [
    {
     "data": {
      "text/html": [
       "<style  type=\"text/css\" >\n",
       "</style><table id=\"T_dcbb8460_265f_11ec_bb63_1e00311af459\" style='display:inline'><caption>Left Table</caption><thead>    <tr>        <th class=\"blank level0\" ></th>        <th class=\"col_heading level0 col0\" >id</th>        <th class=\"col_heading level0 col1\" >name</th>    </tr></thead><tbody>\n",
       "                <tr>\n",
       "                        <th id=\"T_dcbb8460_265f_11ec_bb63_1e00311af459level0_row0\" class=\"row_heading level0 row0\" >0</th>\n",
       "                        <td id=\"T_dcbb8460_265f_11ec_bb63_1e00311af459row0_col0\" class=\"data row0 col0\" >1</td>\n",
       "                        <td id=\"T_dcbb8460_265f_11ec_bb63_1e00311af459row0_col1\" class=\"data row0 col1\" >Jon Smith</td>\n",
       "            </tr>\n",
       "            <tr>\n",
       "                        <th id=\"T_dcbb8460_265f_11ec_bb63_1e00311af459level0_row1\" class=\"row_heading level0 row1\" >1</th>\n",
       "                        <td id=\"T_dcbb8460_265f_11ec_bb63_1e00311af459row1_col0\" class=\"data row1 col0\" >2</td>\n",
       "                        <td id=\"T_dcbb8460_265f_11ec_bb63_1e00311af459row1_col1\" class=\"data row1 col1\" >Sarah Adams</td>\n",
       "            </tr>\n",
       "            <tr>\n",
       "                        <th id=\"T_dcbb8460_265f_11ec_bb63_1e00311af459level0_row2\" class=\"row_heading level0 row2\" >2</th>\n",
       "                        <td id=\"T_dcbb8460_265f_11ec_bb63_1e00311af459row2_col0\" class=\"data row2 col0\" >3</td>\n",
       "                        <td id=\"T_dcbb8460_265f_11ec_bb63_1e00311af459row2_col1\" class=\"data row2 col1\" >Maria Lopez</td>\n",
       "            </tr>\n",
       "    </tbody></table>   <style  type=\"text/css\" >\n",
       "</style><table id=\"T_dcbbe810_265f_11ec_bb63_1e00311af459\" style='display:inline'><caption>Right Table</caption><thead>    <tr>        <th class=\"blank level0\" ></th>        <th class=\"col_heading level0 col0\" >id</th>        <th class=\"col_heading level0 col1\" >amount</th>    </tr></thead><tbody>\n",
       "                <tr>\n",
       "                        <th id=\"T_dcbbe810_265f_11ec_bb63_1e00311af459level0_row0\" class=\"row_heading level0 row0\" >0</th>\n",
       "                        <td id=\"T_dcbbe810_265f_11ec_bb63_1e00311af459row0_col0\" class=\"data row0 col0\" >1</td>\n",
       "                        <td id=\"T_dcbbe810_265f_11ec_bb63_1e00311af459row0_col1\" class=\"data row0 col1\" >10</td>\n",
       "            </tr>\n",
       "            <tr>\n",
       "                        <th id=\"T_dcbbe810_265f_11ec_bb63_1e00311af459level0_row1\" class=\"row_heading level0 row1\" >1</th>\n",
       "                        <td id=\"T_dcbbe810_265f_11ec_bb63_1e00311af459row1_col0\" class=\"data row1 col0\" >3</td>\n",
       "                        <td id=\"T_dcbbe810_265f_11ec_bb63_1e00311af459row1_col1\" class=\"data row1 col1\" >20</td>\n",
       "            </tr>\n",
       "            <tr>\n",
       "                        <th id=\"T_dcbbe810_265f_11ec_bb63_1e00311af459level0_row2\" class=\"row_heading level0 row2\" >2</th>\n",
       "                        <td id=\"T_dcbbe810_265f_11ec_bb63_1e00311af459row2_col0\" class=\"data row2 col0\" >7</td>\n",
       "                        <td id=\"T_dcbbe810_265f_11ec_bb63_1e00311af459row2_col1\" class=\"data row2 col1\" >50</td>\n",
       "            </tr>\n",
       "    </tbody></table>   <style  type=\"text/css\" >\n",
       "</style><table id=\"T_dcbc2884_265f_11ec_bb63_1e00311af459\" style='display:inline'><caption>Full Join Output</caption><thead>    <tr>        <th class=\"blank level0\" ></th>        <th class=\"col_heading level0 col0\" >id</th>        <th class=\"col_heading level0 col1\" >name</th>        <th class=\"col_heading level0 col2\" >amount</th>    </tr></thead><tbody>\n",
       "                <tr>\n",
       "                        <th id=\"T_dcbc2884_265f_11ec_bb63_1e00311af459level0_row0\" class=\"row_heading level0 row0\" >0</th>\n",
       "                        <td id=\"T_dcbc2884_265f_11ec_bb63_1e00311af459row0_col0\" class=\"data row0 col0\" >1</td>\n",
       "                        <td id=\"T_dcbc2884_265f_11ec_bb63_1e00311af459row0_col1\" class=\"data row0 col1\" >Jon Smith</td>\n",
       "                        <td id=\"T_dcbc2884_265f_11ec_bb63_1e00311af459row0_col2\" class=\"data row0 col2\" >10</td>\n",
       "            </tr>\n",
       "            <tr>\n",
       "                        <th id=\"T_dcbc2884_265f_11ec_bb63_1e00311af459level0_row1\" class=\"row_heading level0 row1\" >1</th>\n",
       "                        <td id=\"T_dcbc2884_265f_11ec_bb63_1e00311af459row1_col0\" class=\"data row1 col0\" >2</td>\n",
       "                        <td id=\"T_dcbc2884_265f_11ec_bb63_1e00311af459row1_col1\" class=\"data row1 col1\" >Sarah Adams</td>\n",
       "                        <td id=\"T_dcbc2884_265f_11ec_bb63_1e00311af459row1_col2\" class=\"data row1 col2\" >nan</td>\n",
       "            </tr>\n",
       "            <tr>\n",
       "                        <th id=\"T_dcbc2884_265f_11ec_bb63_1e00311af459level0_row2\" class=\"row_heading level0 row2\" >2</th>\n",
       "                        <td id=\"T_dcbc2884_265f_11ec_bb63_1e00311af459row2_col0\" class=\"data row2 col0\" >3</td>\n",
       "                        <td id=\"T_dcbc2884_265f_11ec_bb63_1e00311af459row2_col1\" class=\"data row2 col1\" >Maria Lopez</td>\n",
       "                        <td id=\"T_dcbc2884_265f_11ec_bb63_1e00311af459row2_col2\" class=\"data row2 col2\" >20</td>\n",
       "            </tr>\n",
       "            <tr>\n",
       "                        <th id=\"T_dcbc2884_265f_11ec_bb63_1e00311af459level0_row3\" class=\"row_heading level0 row3\" >3</th>\n",
       "                        <td id=\"T_dcbc2884_265f_11ec_bb63_1e00311af459row3_col0\" class=\"data row3 col0\" >7</td>\n",
       "                        <td id=\"T_dcbc2884_265f_11ec_bb63_1e00311af459row3_col1\" class=\"data row3 col1\" >nan</td>\n",
       "                        <td id=\"T_dcbc2884_265f_11ec_bb63_1e00311af459row3_col2\" class=\"data row3 col2\" >50</td>\n",
       "            </tr>\n",
       "    </tbody></table>   "
      ],
      "text/plain": [
       "<IPython.core.display.HTML object>"
      ]
     },
     "metadata": {},
     "output_type": "display_data"
    }
   ],
   "source": [
    "query = f'''\n",
    "\n",
    "SELECT \n",
    "COALESCE(names.id,transactions.id) as id,\n",
    "names.name, \n",
    "transactions.amount\n",
    "FROM names \n",
    "    FULL JOIN transactions\n",
    "        ON (names.id = transactions.id)\n",
    "\n",
    ";'''\n",
    "df_full_join = select_query(query)\n",
    "display_side_by_side([df_names, df_transactions, df_full_join],\n",
    "                     ['Left Table', 'Right Table', 'Full Join Output'])\n"
   ]
  },
  {
   "cell_type": "markdown",
   "metadata": {},
   "source": [
    "### Cross Join"
   ]
  },
  {
   "cell_type": "code",
   "execution_count": 19,
   "metadata": {},
   "outputs": [
    {
     "data": {
      "text/html": [
       "<div>\n",
       "<style scoped>\n",
       "    .dataframe tbody tr th:only-of-type {\n",
       "        vertical-align: middle;\n",
       "    }\n",
       "\n",
       "    .dataframe tbody tr th {\n",
       "        vertical-align: top;\n",
       "    }\n",
       "\n",
       "    .dataframe thead th {\n",
       "        text-align: right;\n",
       "    }\n",
       "</style>\n",
       "<table border=\"1\" class=\"dataframe\">\n",
       "  <thead>\n",
       "    <tr style=\"text-align: right;\">\n",
       "      <th></th>\n",
       "      <th>id</th>\n",
       "      <th>name</th>\n",
       "      <th>id</th>\n",
       "      <th>amount</th>\n",
       "    </tr>\n",
       "  </thead>\n",
       "  <tbody>\n",
       "    <tr>\n",
       "      <th>0</th>\n",
       "      <td>1</td>\n",
       "      <td>Jon Smith</td>\n",
       "      <td>1</td>\n",
       "      <td>10</td>\n",
       "    </tr>\n",
       "    <tr>\n",
       "      <th>1</th>\n",
       "      <td>1</td>\n",
       "      <td>Jon Smith</td>\n",
       "      <td>3</td>\n",
       "      <td>20</td>\n",
       "    </tr>\n",
       "    <tr>\n",
       "      <th>2</th>\n",
       "      <td>1</td>\n",
       "      <td>Jon Smith</td>\n",
       "      <td>7</td>\n",
       "      <td>50</td>\n",
       "    </tr>\n",
       "    <tr>\n",
       "      <th>3</th>\n",
       "      <td>2</td>\n",
       "      <td>Sarah Adams</td>\n",
       "      <td>1</td>\n",
       "      <td>10</td>\n",
       "    </tr>\n",
       "    <tr>\n",
       "      <th>4</th>\n",
       "      <td>2</td>\n",
       "      <td>Sarah Adams</td>\n",
       "      <td>3</td>\n",
       "      <td>20</td>\n",
       "    </tr>\n",
       "    <tr>\n",
       "      <th>5</th>\n",
       "      <td>2</td>\n",
       "      <td>Sarah Adams</td>\n",
       "      <td>7</td>\n",
       "      <td>50</td>\n",
       "    </tr>\n",
       "    <tr>\n",
       "      <th>6</th>\n",
       "      <td>3</td>\n",
       "      <td>Maria Lopez</td>\n",
       "      <td>1</td>\n",
       "      <td>10</td>\n",
       "    </tr>\n",
       "    <tr>\n",
       "      <th>7</th>\n",
       "      <td>3</td>\n",
       "      <td>Maria Lopez</td>\n",
       "      <td>3</td>\n",
       "      <td>20</td>\n",
       "    </tr>\n",
       "    <tr>\n",
       "      <th>8</th>\n",
       "      <td>3</td>\n",
       "      <td>Maria Lopez</td>\n",
       "      <td>7</td>\n",
       "      <td>50</td>\n",
       "    </tr>\n",
       "  </tbody>\n",
       "</table>\n",
       "</div>"
      ],
      "text/plain": [
       "   id         name  id amount\n",
       "0   1    Jon Smith   1     10\n",
       "1   1    Jon Smith   3     20\n",
       "2   1    Jon Smith   7     50\n",
       "3   2  Sarah Adams   1     10\n",
       "4   2  Sarah Adams   3     20\n",
       "5   2  Sarah Adams   7     50\n",
       "6   3  Maria Lopez   1     10\n",
       "7   3  Maria Lopez   3     20\n",
       "8   3  Maria Lopez   7     50"
      ]
     },
     "execution_count": 19,
     "metadata": {},
     "output_type": "execute_result"
    }
   ],
   "source": [
    "query = f'''\n",
    "\n",
    "SELECT *\n",
    "FROM names \n",
    "    CROSS JOIN transactions\n",
    "\n",
    ";'''\n",
    "df_cross_join = select_query(query)\n",
    "df_cross_join\n"
   ]
  },
  {
   "cell_type": "markdown",
   "metadata": {},
   "source": [
    "### Join 3 Tables"
   ]
  },
  {
   "cell_type": "markdown",
   "metadata": {},
   "source": [
    "### Add dob_table"
   ]
  },
  {
   "cell_type": "code",
   "execution_count": 20,
   "metadata": {},
   "outputs": [
    {
     "data": {
      "text/html": [
       "\n",
       "        <script>\n",
       "            function code_toggle_15898175705161678882() {\n",
       "                $('div.cell.code_cell.rendered.selected').find('div.input').toggle();\n",
       "            }\n",
       "            \n",
       "        </script>\n",
       "        <a href=\"javascript:code_toggle_15898175705161678882()\">Toggle show/hide</a>\n",
       "    "
      ],
      "text/plain": [
       "<IPython.core.display.HTML object>"
      ]
     },
     "execution_count": 20,
     "metadata": {},
     "output_type": "execute_result"
    }
   ],
   "source": [
    "create = f'''\n",
    "DROP TABLE IF EXISTS dob_table;\n",
    "\n",
    "\n",
    "CREATE TABLE dob_table\n",
    "(id INTEGER,\n",
    " dob date,\n",
    " PRIMARY KEY (id));\n",
    "\n",
    "INSERT INTO dob_table\n",
    "VALUES\n",
    "(1, '1982-09-29'),\n",
    "(3, '1996-02-16')\n",
    ";'''\n",
    "\n",
    "cur.execute(create)\n",
    "conn.commit()\n",
    "\n",
    "hide_toggle()"
   ]
  },
  {
   "cell_type": "markdown",
   "metadata": {},
   "source": [
    "### select * dob_table"
   ]
  },
  {
   "cell_type": "code",
   "execution_count": 22,
   "metadata": {},
   "outputs": [
    {
     "data": {
      "text/html": [
       "<div>\n",
       "<style scoped>\n",
       "    .dataframe tbody tr th:only-of-type {\n",
       "        vertical-align: middle;\n",
       "    }\n",
       "\n",
       "    .dataframe tbody tr th {\n",
       "        vertical-align: top;\n",
       "    }\n",
       "\n",
       "    .dataframe thead th {\n",
       "        text-align: right;\n",
       "    }\n",
       "</style>\n",
       "<table border=\"1\" class=\"dataframe\">\n",
       "  <thead>\n",
       "    <tr style=\"text-align: right;\">\n",
       "      <th></th>\n",
       "      <th>id</th>\n",
       "      <th>dob</th>\n",
       "    </tr>\n",
       "  </thead>\n",
       "  <tbody>\n",
       "    <tr>\n",
       "      <th>0</th>\n",
       "      <td>1</td>\n",
       "      <td>1982-09-29</td>\n",
       "    </tr>\n",
       "    <tr>\n",
       "      <th>1</th>\n",
       "      <td>3</td>\n",
       "      <td>1996-02-16</td>\n",
       "    </tr>\n",
       "  </tbody>\n",
       "</table>\n",
       "</div>"
      ],
      "text/plain": [
       "   id         dob\n",
       "0   1  1982-09-29\n",
       "1   3  1996-02-16"
      ]
     },
     "execution_count": 22,
     "metadata": {},
     "output_type": "execute_result"
    }
   ],
   "source": [
    "query = f'''\n",
    "\n",
    "SELECT *\n",
    "FROM dob_table\n",
    "\n",
    ";'''\n",
    "df_dob = select_query(query)\n",
    "df_dob\n"
   ]
  },
  {
   "cell_type": "markdown",
   "metadata": {},
   "source": [
    "### Query: 3 Table Join"
   ]
  },
  {
   "cell_type": "code",
   "execution_count": 23,
   "metadata": {},
   "outputs": [
    {
     "data": {
      "text/html": [
       "<style  type=\"text/css\" >\n",
       "</style><table id=\"T_e64c372c_265f_11ec_bb63_1e00311af459\" style='display:inline'><caption>names</caption><thead>    <tr>        <th class=\"blank level0\" ></th>        <th class=\"col_heading level0 col0\" >id</th>        <th class=\"col_heading level0 col1\" >name</th>    </tr></thead><tbody>\n",
       "                <tr>\n",
       "                        <th id=\"T_e64c372c_265f_11ec_bb63_1e00311af459level0_row0\" class=\"row_heading level0 row0\" >0</th>\n",
       "                        <td id=\"T_e64c372c_265f_11ec_bb63_1e00311af459row0_col0\" class=\"data row0 col0\" >1</td>\n",
       "                        <td id=\"T_e64c372c_265f_11ec_bb63_1e00311af459row0_col1\" class=\"data row0 col1\" >Jon Smith</td>\n",
       "            </tr>\n",
       "            <tr>\n",
       "                        <th id=\"T_e64c372c_265f_11ec_bb63_1e00311af459level0_row1\" class=\"row_heading level0 row1\" >1</th>\n",
       "                        <td id=\"T_e64c372c_265f_11ec_bb63_1e00311af459row1_col0\" class=\"data row1 col0\" >2</td>\n",
       "                        <td id=\"T_e64c372c_265f_11ec_bb63_1e00311af459row1_col1\" class=\"data row1 col1\" >Sarah Adams</td>\n",
       "            </tr>\n",
       "            <tr>\n",
       "                        <th id=\"T_e64c372c_265f_11ec_bb63_1e00311af459level0_row2\" class=\"row_heading level0 row2\" >2</th>\n",
       "                        <td id=\"T_e64c372c_265f_11ec_bb63_1e00311af459row2_col0\" class=\"data row2 col0\" >3</td>\n",
       "                        <td id=\"T_e64c372c_265f_11ec_bb63_1e00311af459row2_col1\" class=\"data row2 col1\" >Maria Lopez</td>\n",
       "            </tr>\n",
       "    </tbody></table>   <style  type=\"text/css\" >\n",
       "</style><table id=\"T_e64c89d4_265f_11ec_bb63_1e00311af459\" style='display:inline'><caption>transactions</caption><thead>    <tr>        <th class=\"blank level0\" ></th>        <th class=\"col_heading level0 col0\" >id</th>        <th class=\"col_heading level0 col1\" >amount</th>    </tr></thead><tbody>\n",
       "                <tr>\n",
       "                        <th id=\"T_e64c89d4_265f_11ec_bb63_1e00311af459level0_row0\" class=\"row_heading level0 row0\" >0</th>\n",
       "                        <td id=\"T_e64c89d4_265f_11ec_bb63_1e00311af459row0_col0\" class=\"data row0 col0\" >1</td>\n",
       "                        <td id=\"T_e64c89d4_265f_11ec_bb63_1e00311af459row0_col1\" class=\"data row0 col1\" >10</td>\n",
       "            </tr>\n",
       "            <tr>\n",
       "                        <th id=\"T_e64c89d4_265f_11ec_bb63_1e00311af459level0_row1\" class=\"row_heading level0 row1\" >1</th>\n",
       "                        <td id=\"T_e64c89d4_265f_11ec_bb63_1e00311af459row1_col0\" class=\"data row1 col0\" >3</td>\n",
       "                        <td id=\"T_e64c89d4_265f_11ec_bb63_1e00311af459row1_col1\" class=\"data row1 col1\" >20</td>\n",
       "            </tr>\n",
       "            <tr>\n",
       "                        <th id=\"T_e64c89d4_265f_11ec_bb63_1e00311af459level0_row2\" class=\"row_heading level0 row2\" >2</th>\n",
       "                        <td id=\"T_e64c89d4_265f_11ec_bb63_1e00311af459row2_col0\" class=\"data row2 col0\" >7</td>\n",
       "                        <td id=\"T_e64c89d4_265f_11ec_bb63_1e00311af459row2_col1\" class=\"data row2 col1\" >50</td>\n",
       "            </tr>\n",
       "    </tbody></table>   <style  type=\"text/css\" >\n",
       "</style><table id=\"T_e64cc9f8_265f_11ec_bb63_1e00311af459\" style='display:inline'><caption>dob</caption><thead>    <tr>        <th class=\"blank level0\" ></th>        <th class=\"col_heading level0 col0\" >id</th>        <th class=\"col_heading level0 col1\" >dob</th>    </tr></thead><tbody>\n",
       "                <tr>\n",
       "                        <th id=\"T_e64cc9f8_265f_11ec_bb63_1e00311af459level0_row0\" class=\"row_heading level0 row0\" >0</th>\n",
       "                        <td id=\"T_e64cc9f8_265f_11ec_bb63_1e00311af459row0_col0\" class=\"data row0 col0\" >1</td>\n",
       "                        <td id=\"T_e64cc9f8_265f_11ec_bb63_1e00311af459row0_col1\" class=\"data row0 col1\" >1982-09-29</td>\n",
       "            </tr>\n",
       "            <tr>\n",
       "                        <th id=\"T_e64cc9f8_265f_11ec_bb63_1e00311af459level0_row1\" class=\"row_heading level0 row1\" >1</th>\n",
       "                        <td id=\"T_e64cc9f8_265f_11ec_bb63_1e00311af459row1_col0\" class=\"data row1 col0\" >3</td>\n",
       "                        <td id=\"T_e64cc9f8_265f_11ec_bb63_1e00311af459row1_col1\" class=\"data row1 col1\" >1996-02-16</td>\n",
       "            </tr>\n",
       "    </tbody></table>   <style  type=\"text/css\" >\n",
       "</style><table id=\"T_e64d0d14_265f_11ec_bb63_1e00311af459\" style='display:inline'><caption>all three tables</caption><thead>    <tr>        <th class=\"blank level0\" ></th>        <th class=\"col_heading level0 col0\" >id</th>        <th class=\"col_heading level0 col1\" >name</th>        <th class=\"col_heading level0 col2\" >amount</th>        <th class=\"col_heading level0 col3\" >dob</th>    </tr></thead><tbody>\n",
       "                <tr>\n",
       "                        <th id=\"T_e64d0d14_265f_11ec_bb63_1e00311af459level0_row0\" class=\"row_heading level0 row0\" >0</th>\n",
       "                        <td id=\"T_e64d0d14_265f_11ec_bb63_1e00311af459row0_col0\" class=\"data row0 col0\" >1</td>\n",
       "                        <td id=\"T_e64d0d14_265f_11ec_bb63_1e00311af459row0_col1\" class=\"data row0 col1\" >Jon Smith</td>\n",
       "                        <td id=\"T_e64d0d14_265f_11ec_bb63_1e00311af459row0_col2\" class=\"data row0 col2\" >10</td>\n",
       "                        <td id=\"T_e64d0d14_265f_11ec_bb63_1e00311af459row0_col3\" class=\"data row0 col3\" >1982-09-29</td>\n",
       "            </tr>\n",
       "            <tr>\n",
       "                        <th id=\"T_e64d0d14_265f_11ec_bb63_1e00311af459level0_row1\" class=\"row_heading level0 row1\" >1</th>\n",
       "                        <td id=\"T_e64d0d14_265f_11ec_bb63_1e00311af459row1_col0\" class=\"data row1 col0\" >3</td>\n",
       "                        <td id=\"T_e64d0d14_265f_11ec_bb63_1e00311af459row1_col1\" class=\"data row1 col1\" >Maria Lopez</td>\n",
       "                        <td id=\"T_e64d0d14_265f_11ec_bb63_1e00311af459row1_col2\" class=\"data row1 col2\" >20</td>\n",
       "                        <td id=\"T_e64d0d14_265f_11ec_bb63_1e00311af459row1_col3\" class=\"data row1 col3\" >1996-02-16</td>\n",
       "            </tr>\n",
       "    </tbody></table>   "
      ],
      "text/plain": [
       "<IPython.core.display.HTML object>"
      ]
     },
     "metadata": {},
     "output_type": "display_data"
    }
   ],
   "source": [
    "query = f'''\n",
    "\n",
    "SELECT  \n",
    "names.id, \n",
    "names.name, \n",
    "transactions.amount, \n",
    "dob_table.dob\n",
    "FROM names\n",
    "    INNER JOIN transactions\n",
    "        ON (names.id = transactions.id)\n",
    "    INNER JOIN dob_table\n",
    "        ON (names.id = dob_table.id)\n",
    "\n",
    ";'''\n",
    "df_three_tables = select_query(query)\n",
    "display_side_by_side([df_names, df_transactions, df_dob, df_three_tables],\n",
    "                     ['names', 'transactions', 'dob', 'all three tables'])\n"
   ]
  },
  {
   "cell_type": "markdown",
   "metadata": {},
   "source": [
    "\n",
    "\n",
    "\n",
    "### One-to-One | One-to-Many | Many-to-Many"
   ]
  },
  {
   "cell_type": "code",
   "execution_count": 24,
   "metadata": {},
   "outputs": [
    {
     "data": {
      "text/html": [
       "<img src=\"images/one_to_one.png\"/>"
      ],
      "text/plain": [
       "<IPython.core.display.Image object>"
      ]
     },
     "execution_count": 24,
     "metadata": {},
     "output_type": "execute_result"
    }
   ],
   "source": [
    "Image(url= \"images/one_to_one.png\")"
   ]
  },
  {
   "cell_type": "markdown",
   "metadata": {},
   "source": [
    "### Add long_transactions table"
   ]
  },
  {
   "cell_type": "code",
   "execution_count": 25,
   "metadata": {},
   "outputs": [
    {
     "data": {
      "text/html": [
       "\n",
       "        <script>\n",
       "            function code_toggle_11975010437226910667() {\n",
       "                $('div.cell.code_cell.rendered.selected').find('div.input').toggle();\n",
       "            }\n",
       "            \n",
       "        </script>\n",
       "        <a href=\"javascript:code_toggle_11975010437226910667()\">Toggle show/hide</a>\n",
       "    "
      ],
      "text/plain": [
       "<IPython.core.display.HTML object>"
      ]
     },
     "execution_count": 25,
     "metadata": {},
     "output_type": "execute_result"
    }
   ],
   "source": [
    "create = f'''\n",
    "\n",
    "DROP TABLE IF EXISTS long_transactions;\n",
    "\n",
    "CREATE TABLE long_transactions\n",
    "(id INTEGER,\n",
    "amount NUMERIC);\n",
    "\n",
    "INSERT INTO long_transactions\n",
    "VALUES\n",
    "(1, 45),\n",
    "(1, 10),\n",
    "(2, 10),\n",
    "(3, 20),\n",
    "(3, 50),\n",
    "(7, 50)\n",
    ";'''\n",
    "cur.execute(create)\n",
    "conn.commit()\n",
    "hide_toggle()\n"
   ]
  },
  {
   "cell_type": "markdown",
   "metadata": {},
   "source": [
    "### select * long_transactions"
   ]
  },
  {
   "cell_type": "code",
   "execution_count": 51,
   "metadata": {},
   "outputs": [
    {
     "data": {
      "text/html": [
       "<div>\n",
       "<style scoped>\n",
       "    .dataframe tbody tr th:only-of-type {\n",
       "        vertical-align: middle;\n",
       "    }\n",
       "\n",
       "    .dataframe tbody tr th {\n",
       "        vertical-align: top;\n",
       "    }\n",
       "\n",
       "    .dataframe thead th {\n",
       "        text-align: right;\n",
       "    }\n",
       "</style>\n",
       "<table border=\"1\" class=\"dataframe\">\n",
       "  <thead>\n",
       "    <tr style=\"text-align: right;\">\n",
       "      <th></th>\n",
       "      <th>id</th>\n",
       "      <th>amount</th>\n",
       "    </tr>\n",
       "  </thead>\n",
       "  <tbody>\n",
       "    <tr>\n",
       "      <th>0</th>\n",
       "      <td>1</td>\n",
       "      <td>45</td>\n",
       "    </tr>\n",
       "    <tr>\n",
       "      <th>1</th>\n",
       "      <td>1</td>\n",
       "      <td>10</td>\n",
       "    </tr>\n",
       "    <tr>\n",
       "      <th>2</th>\n",
       "      <td>2</td>\n",
       "      <td>10</td>\n",
       "    </tr>\n",
       "    <tr>\n",
       "      <th>3</th>\n",
       "      <td>3</td>\n",
       "      <td>20</td>\n",
       "    </tr>\n",
       "    <tr>\n",
       "      <th>4</th>\n",
       "      <td>3</td>\n",
       "      <td>50</td>\n",
       "    </tr>\n",
       "    <tr>\n",
       "      <th>5</th>\n",
       "      <td>7</td>\n",
       "      <td>50</td>\n",
       "    </tr>\n",
       "  </tbody>\n",
       "</table>\n",
       "</div>"
      ],
      "text/plain": [
       "   id amount\n",
       "0   1     45\n",
       "1   1     10\n",
       "2   2     10\n",
       "3   3     20\n",
       "4   3     50\n",
       "5   7     50"
      ]
     },
     "execution_count": 51,
     "metadata": {},
     "output_type": "execute_result"
    }
   ],
   "source": [
    "query = f'''\n",
    "\n",
    "SELECT  *\n",
    "FROM long_transactions\n",
    "\n",
    ";'''\n",
    "df_long_tran = select_query(query)\n",
    "df_long_tran\n"
   ]
  },
  {
   "cell_type": "markdown",
   "metadata": {},
   "source": [
    "### One-to-many"
   ]
  },
  {
   "cell_type": "code",
   "execution_count": 27,
   "metadata": {},
   "outputs": [
    {
     "data": {
      "text/html": [
       "<style  type=\"text/css\" >\n",
       "</style><table id=\"T_f27c636e_265f_11ec_bb63_1e00311af459\" style='display:inline'><caption>names</caption><thead>    <tr>        <th class=\"blank level0\" ></th>        <th class=\"col_heading level0 col0\" >id</th>        <th class=\"col_heading level0 col1\" >name</th>    </tr></thead><tbody>\n",
       "                <tr>\n",
       "                        <th id=\"T_f27c636e_265f_11ec_bb63_1e00311af459level0_row0\" class=\"row_heading level0 row0\" >0</th>\n",
       "                        <td id=\"T_f27c636e_265f_11ec_bb63_1e00311af459row0_col0\" class=\"data row0 col0\" >1</td>\n",
       "                        <td id=\"T_f27c636e_265f_11ec_bb63_1e00311af459row0_col1\" class=\"data row0 col1\" >Jon Smith</td>\n",
       "            </tr>\n",
       "            <tr>\n",
       "                        <th id=\"T_f27c636e_265f_11ec_bb63_1e00311af459level0_row1\" class=\"row_heading level0 row1\" >1</th>\n",
       "                        <td id=\"T_f27c636e_265f_11ec_bb63_1e00311af459row1_col0\" class=\"data row1 col0\" >2</td>\n",
       "                        <td id=\"T_f27c636e_265f_11ec_bb63_1e00311af459row1_col1\" class=\"data row1 col1\" >Sarah Adams</td>\n",
       "            </tr>\n",
       "            <tr>\n",
       "                        <th id=\"T_f27c636e_265f_11ec_bb63_1e00311af459level0_row2\" class=\"row_heading level0 row2\" >2</th>\n",
       "                        <td id=\"T_f27c636e_265f_11ec_bb63_1e00311af459row2_col0\" class=\"data row2 col0\" >3</td>\n",
       "                        <td id=\"T_f27c636e_265f_11ec_bb63_1e00311af459row2_col1\" class=\"data row2 col1\" >Maria Lopez</td>\n",
       "            </tr>\n",
       "    </tbody></table>   <style  type=\"text/css\" >\n",
       "</style><table id=\"T_f27c960e_265f_11ec_bb63_1e00311af459\" style='display:inline'><caption>transactions</caption><thead>    <tr>        <th class=\"blank level0\" ></th>        <th class=\"col_heading level0 col0\" >id</th>        <th class=\"col_heading level0 col1\" >amount</th>    </tr></thead><tbody>\n",
       "                <tr>\n",
       "                        <th id=\"T_f27c960e_265f_11ec_bb63_1e00311af459level0_row0\" class=\"row_heading level0 row0\" >0</th>\n",
       "                        <td id=\"T_f27c960e_265f_11ec_bb63_1e00311af459row0_col0\" class=\"data row0 col0\" >1</td>\n",
       "                        <td id=\"T_f27c960e_265f_11ec_bb63_1e00311af459row0_col1\" class=\"data row0 col1\" >45</td>\n",
       "            </tr>\n",
       "            <tr>\n",
       "                        <th id=\"T_f27c960e_265f_11ec_bb63_1e00311af459level0_row1\" class=\"row_heading level0 row1\" >1</th>\n",
       "                        <td id=\"T_f27c960e_265f_11ec_bb63_1e00311af459row1_col0\" class=\"data row1 col0\" >1</td>\n",
       "                        <td id=\"T_f27c960e_265f_11ec_bb63_1e00311af459row1_col1\" class=\"data row1 col1\" >10</td>\n",
       "            </tr>\n",
       "            <tr>\n",
       "                        <th id=\"T_f27c960e_265f_11ec_bb63_1e00311af459level0_row2\" class=\"row_heading level0 row2\" >2</th>\n",
       "                        <td id=\"T_f27c960e_265f_11ec_bb63_1e00311af459row2_col0\" class=\"data row2 col0\" >2</td>\n",
       "                        <td id=\"T_f27c960e_265f_11ec_bb63_1e00311af459row2_col1\" class=\"data row2 col1\" >10</td>\n",
       "            </tr>\n",
       "            <tr>\n",
       "                        <th id=\"T_f27c960e_265f_11ec_bb63_1e00311af459level0_row3\" class=\"row_heading level0 row3\" >3</th>\n",
       "                        <td id=\"T_f27c960e_265f_11ec_bb63_1e00311af459row3_col0\" class=\"data row3 col0\" >3</td>\n",
       "                        <td id=\"T_f27c960e_265f_11ec_bb63_1e00311af459row3_col1\" class=\"data row3 col1\" >20</td>\n",
       "            </tr>\n",
       "            <tr>\n",
       "                        <th id=\"T_f27c960e_265f_11ec_bb63_1e00311af459level0_row4\" class=\"row_heading level0 row4\" >4</th>\n",
       "                        <td id=\"T_f27c960e_265f_11ec_bb63_1e00311af459row4_col0\" class=\"data row4 col0\" >3</td>\n",
       "                        <td id=\"T_f27c960e_265f_11ec_bb63_1e00311af459row4_col1\" class=\"data row4 col1\" >50</td>\n",
       "            </tr>\n",
       "            <tr>\n",
       "                        <th id=\"T_f27c960e_265f_11ec_bb63_1e00311af459level0_row5\" class=\"row_heading level0 row5\" >5</th>\n",
       "                        <td id=\"T_f27c960e_265f_11ec_bb63_1e00311af459row5_col0\" class=\"data row5 col0\" >7</td>\n",
       "                        <td id=\"T_f27c960e_265f_11ec_bb63_1e00311af459row5_col1\" class=\"data row5 col1\" >50</td>\n",
       "            </tr>\n",
       "    </tbody></table>   <style  type=\"text/css\" >\n",
       "</style><table id=\"T_f27ce2da_265f_11ec_bb63_1e00311af459\" style='display:inline'><caption>One-to-many</caption><thead>    <tr>        <th class=\"blank level0\" ></th>        <th class=\"col_heading level0 col0\" >id</th>        <th class=\"col_heading level0 col1\" >name</th>        <th class=\"col_heading level0 col2\" >amount</th>    </tr></thead><tbody>\n",
       "                <tr>\n",
       "                        <th id=\"T_f27ce2da_265f_11ec_bb63_1e00311af459level0_row0\" class=\"row_heading level0 row0\" >0</th>\n",
       "                        <td id=\"T_f27ce2da_265f_11ec_bb63_1e00311af459row0_col0\" class=\"data row0 col0\" >1</td>\n",
       "                        <td id=\"T_f27ce2da_265f_11ec_bb63_1e00311af459row0_col1\" class=\"data row0 col1\" >Jon Smith</td>\n",
       "                        <td id=\"T_f27ce2da_265f_11ec_bb63_1e00311af459row0_col2\" class=\"data row0 col2\" >45</td>\n",
       "            </tr>\n",
       "            <tr>\n",
       "                        <th id=\"T_f27ce2da_265f_11ec_bb63_1e00311af459level0_row1\" class=\"row_heading level0 row1\" >1</th>\n",
       "                        <td id=\"T_f27ce2da_265f_11ec_bb63_1e00311af459row1_col0\" class=\"data row1 col0\" >1</td>\n",
       "                        <td id=\"T_f27ce2da_265f_11ec_bb63_1e00311af459row1_col1\" class=\"data row1 col1\" >Jon Smith</td>\n",
       "                        <td id=\"T_f27ce2da_265f_11ec_bb63_1e00311af459row1_col2\" class=\"data row1 col2\" >10</td>\n",
       "            </tr>\n",
       "            <tr>\n",
       "                        <th id=\"T_f27ce2da_265f_11ec_bb63_1e00311af459level0_row2\" class=\"row_heading level0 row2\" >2</th>\n",
       "                        <td id=\"T_f27ce2da_265f_11ec_bb63_1e00311af459row2_col0\" class=\"data row2 col0\" >2</td>\n",
       "                        <td id=\"T_f27ce2da_265f_11ec_bb63_1e00311af459row2_col1\" class=\"data row2 col1\" >Sarah Adams</td>\n",
       "                        <td id=\"T_f27ce2da_265f_11ec_bb63_1e00311af459row2_col2\" class=\"data row2 col2\" >10</td>\n",
       "            </tr>\n",
       "            <tr>\n",
       "                        <th id=\"T_f27ce2da_265f_11ec_bb63_1e00311af459level0_row3\" class=\"row_heading level0 row3\" >3</th>\n",
       "                        <td id=\"T_f27ce2da_265f_11ec_bb63_1e00311af459row3_col0\" class=\"data row3 col0\" >3</td>\n",
       "                        <td id=\"T_f27ce2da_265f_11ec_bb63_1e00311af459row3_col1\" class=\"data row3 col1\" >Maria Lopez</td>\n",
       "                        <td id=\"T_f27ce2da_265f_11ec_bb63_1e00311af459row3_col2\" class=\"data row3 col2\" >20</td>\n",
       "            </tr>\n",
       "            <tr>\n",
       "                        <th id=\"T_f27ce2da_265f_11ec_bb63_1e00311af459level0_row4\" class=\"row_heading level0 row4\" >4</th>\n",
       "                        <td id=\"T_f27ce2da_265f_11ec_bb63_1e00311af459row4_col0\" class=\"data row4 col0\" >3</td>\n",
       "                        <td id=\"T_f27ce2da_265f_11ec_bb63_1e00311af459row4_col1\" class=\"data row4 col1\" >Maria Lopez</td>\n",
       "                        <td id=\"T_f27ce2da_265f_11ec_bb63_1e00311af459row4_col2\" class=\"data row4 col2\" >50</td>\n",
       "            </tr>\n",
       "    </tbody></table>   "
      ],
      "text/plain": [
       "<IPython.core.display.HTML object>"
      ]
     },
     "metadata": {},
     "output_type": "display_data"
    },
    {
     "data": {
      "text/html": [
       "\n",
       "        <script>\n",
       "            function code_toggle_12000090505432368020() {\n",
       "                $('div.cell.code_cell.rendered.selected').find('div.input').toggle();\n",
       "            }\n",
       "            \n",
       "        </script>\n",
       "        <a href=\"javascript:code_toggle_12000090505432368020()\">Toggle show/hide</a>\n",
       "    "
      ],
      "text/plain": [
       "<IPython.core.display.HTML object>"
      ]
     },
     "execution_count": 27,
     "metadata": {},
     "output_type": "execute_result"
    }
   ],
   "source": [
    "query = f'''\n",
    "\n",
    "SELECT  \n",
    "names.id, \n",
    "names.name, \n",
    "long_transactions.amount\n",
    "FROM names \n",
    "    LEFT JOIN long_transactions\n",
    "        ON (names.id = long_transactions.id)\n",
    "\n",
    ";'''\n",
    "df_one_many = select_query(query)\n",
    "display_side_by_side([df_names, df_long_tran, df_one_many],\n",
    "                     ['names', 'transactions', 'One-to-many'])\n",
    "hide_toggle()\n"
   ]
  },
  {
   "cell_type": "markdown",
   "metadata": {},
   "source": [
    "### Many-to-Many"
   ]
  },
  {
   "cell_type": "markdown",
   "metadata": {},
   "source": [
    "### Add long_amounts table"
   ]
  },
  {
   "cell_type": "code",
   "execution_count": 14,
   "metadata": {},
   "outputs": [
    {
     "data": {
      "text/html": [
       "\n",
       "        <script>\n",
       "            function code_toggle_4661624746864317962() {\n",
       "                $('div.cell.code_cell.rendered.selected').find('div.input').toggle();\n",
       "            }\n",
       "            \n",
       "        </script>\n",
       "        <a href=\"javascript:code_toggle_4661624746864317962()\">Toggle show/hide</a>\n",
       "    "
      ],
      "text/plain": [
       "<IPython.core.display.HTML object>"
      ]
     },
     "execution_count": 14,
     "metadata": {},
     "output_type": "execute_result"
    }
   ],
   "source": [
    "create = f'''\n",
    "\n",
    "DROP TABLE IF EXISTS long_amounts;\n",
    "\n",
    "CREATE TABLE long_amounts\n",
    "(amount NUMERIC,\n",
    " item VARCHAR);\n",
    "\n",
    "INSERT INTO long_amounts\n",
    "VALUES\n",
    "(10, 'toy'),\n",
    "(10, 'postcard'),\n",
    "(50, 'shirt'),\n",
    "(20, 'cards'),\n",
    "(20, 'other cards'),\n",
    "(70, 'pants')\n",
    ";'''\n",
    "cur.execute(create)\n",
    "conn.commit()\n",
    "hide_toggle()\n"
   ]
  },
  {
   "cell_type": "markdown",
   "metadata": {},
   "source": [
    "### select * long_amounts"
   ]
  },
  {
   "cell_type": "code",
   "execution_count": 52,
   "metadata": {},
   "outputs": [
    {
     "data": {
      "text/html": [
       "<div>\n",
       "<style scoped>\n",
       "    .dataframe tbody tr th:only-of-type {\n",
       "        vertical-align: middle;\n",
       "    }\n",
       "\n",
       "    .dataframe tbody tr th {\n",
       "        vertical-align: top;\n",
       "    }\n",
       "\n",
       "    .dataframe thead th {\n",
       "        text-align: right;\n",
       "    }\n",
       "</style>\n",
       "<table border=\"1\" class=\"dataframe\">\n",
       "  <thead>\n",
       "    <tr style=\"text-align: right;\">\n",
       "      <th></th>\n",
       "      <th>amount</th>\n",
       "      <th>item</th>\n",
       "    </tr>\n",
       "  </thead>\n",
       "  <tbody>\n",
       "    <tr>\n",
       "      <th>0</th>\n",
       "      <td>10</td>\n",
       "      <td>toy</td>\n",
       "    </tr>\n",
       "    <tr>\n",
       "      <th>1</th>\n",
       "      <td>10</td>\n",
       "      <td>postcard</td>\n",
       "    </tr>\n",
       "    <tr>\n",
       "      <th>2</th>\n",
       "      <td>50</td>\n",
       "      <td>shirt</td>\n",
       "    </tr>\n",
       "    <tr>\n",
       "      <th>3</th>\n",
       "      <td>20</td>\n",
       "      <td>cards</td>\n",
       "    </tr>\n",
       "    <tr>\n",
       "      <th>4</th>\n",
       "      <td>20</td>\n",
       "      <td>other cards</td>\n",
       "    </tr>\n",
       "    <tr>\n",
       "      <th>5</th>\n",
       "      <td>70</td>\n",
       "      <td>pants</td>\n",
       "    </tr>\n",
       "  </tbody>\n",
       "</table>\n",
       "</div>"
      ],
      "text/plain": [
       "  amount         item\n",
       "0     10          toy\n",
       "1     10     postcard\n",
       "2     50        shirt\n",
       "3     20        cards\n",
       "4     20  other cards\n",
       "5     70        pants"
      ]
     },
     "execution_count": 52,
     "metadata": {},
     "output_type": "execute_result"
    }
   ],
   "source": [
    "query = f'''\n",
    "\n",
    "SELECT  \n",
    "*\n",
    "FROM long_amounts\n",
    "\n",
    ";'''\n",
    "df_long_amount = select_query(query)\n",
    "df_long_amount\n"
   ]
  },
  {
   "cell_type": "code",
   "execution_count": 29,
   "metadata": {},
   "outputs": [
    {
     "data": {
      "text/html": [
       "<style  type=\"text/css\" >\n",
       "</style><table id=\"T_fbe5cf44_265f_11ec_bb63_1e00311af459\" style='display:inline'><caption>long_transactions</caption><thead>    <tr>        <th class=\"blank level0\" ></th>        <th class=\"col_heading level0 col0\" >id</th>        <th class=\"col_heading level0 col1\" >amount</th>    </tr></thead><tbody>\n",
       "                <tr>\n",
       "                        <th id=\"T_fbe5cf44_265f_11ec_bb63_1e00311af459level0_row0\" class=\"row_heading level0 row0\" >0</th>\n",
       "                        <td id=\"T_fbe5cf44_265f_11ec_bb63_1e00311af459row0_col0\" class=\"data row0 col0\" >1</td>\n",
       "                        <td id=\"T_fbe5cf44_265f_11ec_bb63_1e00311af459row0_col1\" class=\"data row0 col1\" >45</td>\n",
       "            </tr>\n",
       "            <tr>\n",
       "                        <th id=\"T_fbe5cf44_265f_11ec_bb63_1e00311af459level0_row1\" class=\"row_heading level0 row1\" >1</th>\n",
       "                        <td id=\"T_fbe5cf44_265f_11ec_bb63_1e00311af459row1_col0\" class=\"data row1 col0\" >1</td>\n",
       "                        <td id=\"T_fbe5cf44_265f_11ec_bb63_1e00311af459row1_col1\" class=\"data row1 col1\" >10</td>\n",
       "            </tr>\n",
       "            <tr>\n",
       "                        <th id=\"T_fbe5cf44_265f_11ec_bb63_1e00311af459level0_row2\" class=\"row_heading level0 row2\" >2</th>\n",
       "                        <td id=\"T_fbe5cf44_265f_11ec_bb63_1e00311af459row2_col0\" class=\"data row2 col0\" >2</td>\n",
       "                        <td id=\"T_fbe5cf44_265f_11ec_bb63_1e00311af459row2_col1\" class=\"data row2 col1\" >10</td>\n",
       "            </tr>\n",
       "            <tr>\n",
       "                        <th id=\"T_fbe5cf44_265f_11ec_bb63_1e00311af459level0_row3\" class=\"row_heading level0 row3\" >3</th>\n",
       "                        <td id=\"T_fbe5cf44_265f_11ec_bb63_1e00311af459row3_col0\" class=\"data row3 col0\" >3</td>\n",
       "                        <td id=\"T_fbe5cf44_265f_11ec_bb63_1e00311af459row3_col1\" class=\"data row3 col1\" >20</td>\n",
       "            </tr>\n",
       "            <tr>\n",
       "                        <th id=\"T_fbe5cf44_265f_11ec_bb63_1e00311af459level0_row4\" class=\"row_heading level0 row4\" >4</th>\n",
       "                        <td id=\"T_fbe5cf44_265f_11ec_bb63_1e00311af459row4_col0\" class=\"data row4 col0\" >3</td>\n",
       "                        <td id=\"T_fbe5cf44_265f_11ec_bb63_1e00311af459row4_col1\" class=\"data row4 col1\" >50</td>\n",
       "            </tr>\n",
       "            <tr>\n",
       "                        <th id=\"T_fbe5cf44_265f_11ec_bb63_1e00311af459level0_row5\" class=\"row_heading level0 row5\" >5</th>\n",
       "                        <td id=\"T_fbe5cf44_265f_11ec_bb63_1e00311af459row5_col0\" class=\"data row5 col0\" >7</td>\n",
       "                        <td id=\"T_fbe5cf44_265f_11ec_bb63_1e00311af459row5_col1\" class=\"data row5 col1\" >50</td>\n",
       "            </tr>\n",
       "    </tbody></table>   <style  type=\"text/css\" >\n",
       "</style><table id=\"T_fbe6266a_265f_11ec_bb63_1e00311af459\" style='display:inline'><caption>long_amounts</caption><thead>    <tr>        <th class=\"blank level0\" ></th>        <th class=\"col_heading level0 col0\" >amount</th>        <th class=\"col_heading level0 col1\" >item</th>    </tr></thead><tbody>\n",
       "                <tr>\n",
       "                        <th id=\"T_fbe6266a_265f_11ec_bb63_1e00311af459level0_row0\" class=\"row_heading level0 row0\" >0</th>\n",
       "                        <td id=\"T_fbe6266a_265f_11ec_bb63_1e00311af459row0_col0\" class=\"data row0 col0\" >10</td>\n",
       "                        <td id=\"T_fbe6266a_265f_11ec_bb63_1e00311af459row0_col1\" class=\"data row0 col1\" >toy</td>\n",
       "            </tr>\n",
       "            <tr>\n",
       "                        <th id=\"T_fbe6266a_265f_11ec_bb63_1e00311af459level0_row1\" class=\"row_heading level0 row1\" >1</th>\n",
       "                        <td id=\"T_fbe6266a_265f_11ec_bb63_1e00311af459row1_col0\" class=\"data row1 col0\" >10</td>\n",
       "                        <td id=\"T_fbe6266a_265f_11ec_bb63_1e00311af459row1_col1\" class=\"data row1 col1\" >postcard</td>\n",
       "            </tr>\n",
       "            <tr>\n",
       "                        <th id=\"T_fbe6266a_265f_11ec_bb63_1e00311af459level0_row2\" class=\"row_heading level0 row2\" >2</th>\n",
       "                        <td id=\"T_fbe6266a_265f_11ec_bb63_1e00311af459row2_col0\" class=\"data row2 col0\" >50</td>\n",
       "                        <td id=\"T_fbe6266a_265f_11ec_bb63_1e00311af459row2_col1\" class=\"data row2 col1\" >shirt</td>\n",
       "            </tr>\n",
       "            <tr>\n",
       "                        <th id=\"T_fbe6266a_265f_11ec_bb63_1e00311af459level0_row3\" class=\"row_heading level0 row3\" >3</th>\n",
       "                        <td id=\"T_fbe6266a_265f_11ec_bb63_1e00311af459row3_col0\" class=\"data row3 col0\" >20</td>\n",
       "                        <td id=\"T_fbe6266a_265f_11ec_bb63_1e00311af459row3_col1\" class=\"data row3 col1\" >cards</td>\n",
       "            </tr>\n",
       "            <tr>\n",
       "                        <th id=\"T_fbe6266a_265f_11ec_bb63_1e00311af459level0_row4\" class=\"row_heading level0 row4\" >4</th>\n",
       "                        <td id=\"T_fbe6266a_265f_11ec_bb63_1e00311af459row4_col0\" class=\"data row4 col0\" >20</td>\n",
       "                        <td id=\"T_fbe6266a_265f_11ec_bb63_1e00311af459row4_col1\" class=\"data row4 col1\" >other cards</td>\n",
       "            </tr>\n",
       "            <tr>\n",
       "                        <th id=\"T_fbe6266a_265f_11ec_bb63_1e00311af459level0_row5\" class=\"row_heading level0 row5\" >5</th>\n",
       "                        <td id=\"T_fbe6266a_265f_11ec_bb63_1e00311af459row5_col0\" class=\"data row5 col0\" >70</td>\n",
       "                        <td id=\"T_fbe6266a_265f_11ec_bb63_1e00311af459row5_col1\" class=\"data row5 col1\" >pants</td>\n",
       "            </tr>\n",
       "    </tbody></table>   <style  type=\"text/css\" >\n",
       "</style><table id=\"T_fbe67e12_265f_11ec_bb63_1e00311af459\" style='display:inline'><caption>Many-to-Many</caption><thead>    <tr>        <th class=\"blank level0\" ></th>        <th class=\"col_heading level0 col0\" >id</th>        <th class=\"col_heading level0 col1\" >amount</th>        <th class=\"col_heading level0 col2\" >item</th>    </tr></thead><tbody>\n",
       "                <tr>\n",
       "                        <th id=\"T_fbe67e12_265f_11ec_bb63_1e00311af459level0_row0\" class=\"row_heading level0 row0\" >0</th>\n",
       "                        <td id=\"T_fbe67e12_265f_11ec_bb63_1e00311af459row0_col0\" class=\"data row0 col0\" >1</td>\n",
       "                        <td id=\"T_fbe67e12_265f_11ec_bb63_1e00311af459row0_col1\" class=\"data row0 col1\" >10</td>\n",
       "                        <td id=\"T_fbe67e12_265f_11ec_bb63_1e00311af459row0_col2\" class=\"data row0 col2\" >toy</td>\n",
       "            </tr>\n",
       "            <tr>\n",
       "                        <th id=\"T_fbe67e12_265f_11ec_bb63_1e00311af459level0_row1\" class=\"row_heading level0 row1\" >1</th>\n",
       "                        <td id=\"T_fbe67e12_265f_11ec_bb63_1e00311af459row1_col0\" class=\"data row1 col0\" >2</td>\n",
       "                        <td id=\"T_fbe67e12_265f_11ec_bb63_1e00311af459row1_col1\" class=\"data row1 col1\" >10</td>\n",
       "                        <td id=\"T_fbe67e12_265f_11ec_bb63_1e00311af459row1_col2\" class=\"data row1 col2\" >toy</td>\n",
       "            </tr>\n",
       "            <tr>\n",
       "                        <th id=\"T_fbe67e12_265f_11ec_bb63_1e00311af459level0_row2\" class=\"row_heading level0 row2\" >2</th>\n",
       "                        <td id=\"T_fbe67e12_265f_11ec_bb63_1e00311af459row2_col0\" class=\"data row2 col0\" >1</td>\n",
       "                        <td id=\"T_fbe67e12_265f_11ec_bb63_1e00311af459row2_col1\" class=\"data row2 col1\" >10</td>\n",
       "                        <td id=\"T_fbe67e12_265f_11ec_bb63_1e00311af459row2_col2\" class=\"data row2 col2\" >postcard</td>\n",
       "            </tr>\n",
       "            <tr>\n",
       "                        <th id=\"T_fbe67e12_265f_11ec_bb63_1e00311af459level0_row3\" class=\"row_heading level0 row3\" >3</th>\n",
       "                        <td id=\"T_fbe67e12_265f_11ec_bb63_1e00311af459row3_col0\" class=\"data row3 col0\" >2</td>\n",
       "                        <td id=\"T_fbe67e12_265f_11ec_bb63_1e00311af459row3_col1\" class=\"data row3 col1\" >10</td>\n",
       "                        <td id=\"T_fbe67e12_265f_11ec_bb63_1e00311af459row3_col2\" class=\"data row3 col2\" >postcard</td>\n",
       "            </tr>\n",
       "            <tr>\n",
       "                        <th id=\"T_fbe67e12_265f_11ec_bb63_1e00311af459level0_row4\" class=\"row_heading level0 row4\" >4</th>\n",
       "                        <td id=\"T_fbe67e12_265f_11ec_bb63_1e00311af459row4_col0\" class=\"data row4 col0\" >3</td>\n",
       "                        <td id=\"T_fbe67e12_265f_11ec_bb63_1e00311af459row4_col1\" class=\"data row4 col1\" >20</td>\n",
       "                        <td id=\"T_fbe67e12_265f_11ec_bb63_1e00311af459row4_col2\" class=\"data row4 col2\" >cards</td>\n",
       "            </tr>\n",
       "            <tr>\n",
       "                        <th id=\"T_fbe67e12_265f_11ec_bb63_1e00311af459level0_row5\" class=\"row_heading level0 row5\" >5</th>\n",
       "                        <td id=\"T_fbe67e12_265f_11ec_bb63_1e00311af459row5_col0\" class=\"data row5 col0\" >3</td>\n",
       "                        <td id=\"T_fbe67e12_265f_11ec_bb63_1e00311af459row5_col1\" class=\"data row5 col1\" >20</td>\n",
       "                        <td id=\"T_fbe67e12_265f_11ec_bb63_1e00311af459row5_col2\" class=\"data row5 col2\" >other cards</td>\n",
       "            </tr>\n",
       "            <tr>\n",
       "                        <th id=\"T_fbe67e12_265f_11ec_bb63_1e00311af459level0_row6\" class=\"row_heading level0 row6\" >6</th>\n",
       "                        <td id=\"T_fbe67e12_265f_11ec_bb63_1e00311af459row6_col0\" class=\"data row6 col0\" >3</td>\n",
       "                        <td id=\"T_fbe67e12_265f_11ec_bb63_1e00311af459row6_col1\" class=\"data row6 col1\" >50</td>\n",
       "                        <td id=\"T_fbe67e12_265f_11ec_bb63_1e00311af459row6_col2\" class=\"data row6 col2\" >shirt</td>\n",
       "            </tr>\n",
       "            <tr>\n",
       "                        <th id=\"T_fbe67e12_265f_11ec_bb63_1e00311af459level0_row7\" class=\"row_heading level0 row7\" >7</th>\n",
       "                        <td id=\"T_fbe67e12_265f_11ec_bb63_1e00311af459row7_col0\" class=\"data row7 col0\" >7</td>\n",
       "                        <td id=\"T_fbe67e12_265f_11ec_bb63_1e00311af459row7_col1\" class=\"data row7 col1\" >50</td>\n",
       "                        <td id=\"T_fbe67e12_265f_11ec_bb63_1e00311af459row7_col2\" class=\"data row7 col2\" >shirt</td>\n",
       "            </tr>\n",
       "    </tbody></table>   "
      ],
      "text/plain": [
       "<IPython.core.display.HTML object>"
      ]
     },
     "metadata": {},
     "output_type": "display_data"
    },
    {
     "data": {
      "text/html": [
       "\n",
       "        <script>\n",
       "            function code_toggle_12005205252257348787() {\n",
       "                $('div.cell.code_cell.rendered.selected').find('div.input').toggle();\n",
       "            }\n",
       "            \n",
       "        </script>\n",
       "        <a href=\"javascript:code_toggle_12005205252257348787()\">Toggle show/hide</a>\n",
       "    "
      ],
      "text/plain": [
       "<IPython.core.display.HTML object>"
      ]
     },
     "execution_count": 29,
     "metadata": {},
     "output_type": "execute_result"
    }
   ],
   "source": [
    "query = f'''\n",
    "\n",
    "SELECT  \n",
    "long_transactions.id,\n",
    "long_transactions.amount,\n",
    "long_amounts.item\n",
    "FROM long_transactions \n",
    "    INNER JOIN long_amounts\n",
    "        ON (long_transactions.amount = long_amounts.amount)\n",
    "\n",
    ";'''\n",
    "df_many_many = select_query(query)\n",
    "display_side_by_side([df_long_tran, df_long_amount, df_many_many],\n",
    "                     ['long_transactions', 'long_amounts', 'Many-to-Many'])\n",
    "hide_toggle()\n"
   ]
  },
  {
   "cell_type": "code",
   "execution_count": 31,
   "metadata": {},
   "outputs": [
    {
     "data": {
      "text/html": [
       "\n",
       "        <script>\n",
       "            function code_toggle_14987253039321588762() {\n",
       "                $('div.cell.code_cell.rendered.selected').find('div.input').toggle();\n",
       "            }\n",
       "            \n",
       "        </script>\n",
       "        <a href=\"javascript:code_toggle_14987253039321588762()\">Toggle show/hide</a>\n",
       "    "
      ],
      "text/plain": [
       "<IPython.core.display.HTML object>"
      ]
     },
     "execution_count": 31,
     "metadata": {},
     "output_type": "execute_result"
    }
   ],
   "source": [
    "cur.close()\n",
    "conn.close()\n",
    "hide_toggle()\n"
   ]
  }
 ],
 "metadata": {
  "kernelspec": {
   "display_name": "Python 3",
   "language": "python",
   "name": "python3"
  },
  "language_info": {
   "codemirror_mode": {
    "name": "ipython",
    "version": 3
   },
   "file_extension": ".py",
   "mimetype": "text/x-python",
   "name": "python",
   "nbconvert_exporter": "python",
   "pygments_lexer": "ipython3",
   "version": "3.8.5"
  },
  "toc": {
   "base_numbering": 1,
   "nav_menu": {},
   "number_sections": false,
   "sideBar": true,
   "skip_h1_title": false,
   "title_cell": "Table of Contents",
   "title_sidebar": "Contents",
   "toc_cell": false,
   "toc_position": {},
   "toc_section_display": true,
   "toc_window_display": false
  }
 },
 "nbformat": 4,
 "nbformat_minor": 4
}
